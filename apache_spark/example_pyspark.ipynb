{
 "cells": [
  {
   "cell_type": "code",
   "execution_count": 1,
   "metadata": {},
   "outputs": [],
   "source": [
    "from pyspark.sql import SparkSession\n",
    "from pyspark.sql.types import StructType, StructField, IntegerType, StringType\n",
    "import pyspark.sql.functions as func"
   ]
  },
  {
   "cell_type": "code",
   "execution_count": 2,
   "metadata": {},
   "outputs": [
    {
     "name": "stderr",
     "output_type": "stream",
     "text": [
      "Setting default log level to \"WARN\".\n",
      "To adjust logging level use sc.setLogLevel(newLevel). For SparkR, use setLogLevel(newLevel).\n",
      "25/01/19 17:25:07 WARN NativeCodeLoader: Unable to load native-hadoop library for your platform... using builtin-java classes where applicable\n"
     ]
    }
   ],
   "source": [
    "#Creating the Spark Session\n",
    "spark = SparkSession.builder.appName(\"FisrtApp\").getOrCreate()"
   ]
  },
  {
   "cell_type": "code",
   "execution_count": 3,
   "metadata": {},
   "outputs": [],
   "source": [
    "#DF schema\n",
    "schema = StructType([\\\n",
    "    StructField(\"userID\", IntegerType(), True),\n",
    "    StructField(\"name\", StringType(), True),\n",
    "    StructField(\"age\", IntegerType(), True),\n",
    "    StructField(\"friends\", IntegerType(), True),\n",
    "    ])"
   ]
  },
  {
   "cell_type": "code",
   "execution_count": 4,
   "metadata": {},
   "outputs": [],
   "source": [
    "#Read CSV file\n",
    "df_people = spark.read.format(\"csv\")\\\n",
    "    .schema(schema)\\\n",
    "    .option(\"path\", \"/app/fakefriends.csv\")\\\n",
    "    .load()"
   ]
  },
  {
   "cell_type": "code",
   "execution_count": 5,
   "metadata": {},
   "outputs": [],
   "source": [
    "#Transformations\n",
    "output = df_people.select(df_people.userID, df_people.name,\\\n",
    "                          df_people.age, df_people.friends)\\\n",
    "                          .where(df_people.age < 30).withColumn('insert_ts', func.current_timestamp())\\\n",
    "                          .orderBy(df_people.userID)\n",
    "\n",
    "#Schema in DDL\n",
    "#schema = \"userID INT, name STRING, age INT, friends INT\""
   ]
  },
  {
   "cell_type": "code",
   "execution_count": 6,
   "metadata": {},
   "outputs": [
    {
     "name": "stdout",
     "output_type": "stream",
     "text": [
      "112\n"
     ]
    }
   ],
   "source": [
    "print(output.count())"
   ]
  },
  {
   "cell_type": "code",
   "execution_count": 7,
   "metadata": {},
   "outputs": [],
   "source": [
    "#Creating a Temp View\n",
    "output.createOrReplaceTempView(\"people\")"
   ]
  },
  {
   "cell_type": "code",
   "execution_count": null,
   "metadata": {},
   "outputs": [
    {
     "name": "stdout",
     "output_type": "stream",
     "text": [
      "+------+--------+---+-------+--------------------+\n",
      "|userID|    name|age|friends|           insert_ts|\n",
      "+------+--------+---+-------+--------------------+\n",
      "|     1|Jean-Luc| 26|      2|2025-01-19 17:25:...|\n",
      "|     9|    Hugh| 27|    181|2025-01-19 17:25:...|\n",
      "|    16|  Weyoun| 22|    323|2025-01-19 17:25:...|\n",
      "|    21|   Miles| 19|    268|2025-01-19 17:25:...|\n",
      "|    24|  Julian| 25|      1|2025-01-19 17:25:...|\n",
      "+------+--------+---+-------+--------------------+\n",
      "\n"
     ]
    }
   ],
   "source": [
    "#Simple query\n",
    "spark.sql('''\n",
    "          SELECT *\n",
    "          FROM people\n",
    "          LIMIT 5\n",
    "          ''').show()"
   ]
  }
 ],
 "metadata": {
  "kernelspec": {
   "display_name": "Python 3",
   "language": "python",
   "name": "python3"
  },
  "language_info": {
   "codemirror_mode": {
    "name": "ipython",
    "version": 3
   },
   "file_extension": ".py",
   "mimetype": "text/x-python",
   "name": "python",
   "nbconvert_exporter": "python",
   "pygments_lexer": "ipython3",
   "version": "3.8.10"
  }
 },
 "nbformat": 4,
 "nbformat_minor": 2
}
