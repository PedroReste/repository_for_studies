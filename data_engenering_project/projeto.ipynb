{
 "cells": [
  {
   "cell_type": "code",
   "execution_count": 1,
   "metadata": {},
   "outputs": [],
   "source": [
    "import psycopg2"
   ]
  },
  {
   "cell_type": "code",
   "execution_count": 2,
   "metadata": {},
   "outputs": [],
   "source": [
    "#Função para criar tabela\n",
    "\n",
    "def create_database():\n",
    "    #Conexão com o database padrão do PostgreSQL\n",
    "    conn = psycopg2.connect(\"host=localhost dbname=postgres user=postgres password=Gemeos$17\")\n",
    "    conn.set_session(autocommit=True)\n",
    "    cur = conn.cursor()\n",
    "\n",
    "    #Criando um database com formato UTF8\n",
    "    cur.execute(\"DROP DATABASE movies\")\n",
    "    cur.execute(\"CREATE DATABASE movies\")\n",
    "\n",
    "    #Encerrando a sessão atual\n",
    "    conn.close()\n",
    "\n",
    "    #Conectando ao novo database\n",
    "    conn = psycopg2.connect(\"host=localhost dbname=movies user=postgres password=Gemeos$17\")\n",
    "    conn.set_session(autocommit=True)\n",
    "    cur = conn.cursor()\n",
    "\n",
    "    return cur, conn"
   ]
  },
  {
   "cell_type": "code",
   "execution_count": 2,
   "metadata": {},
   "outputs": [],
   "source": [
    "\"\"\"conn = psycopg2.connect(\"host=localhost dbname=movies user=postgres password=Gemeos$17\")\n",
    "conn.set_session(autocommit=True)\n",
    "cur = conn.cursor()\"\"\""
   ]
  },
  {
   "cell_type": "code",
   "execution_count": 24,
   "metadata": {},
   "outputs": [],
   "source": [
    "\"\"\"def drop_tables(cur, conn):\n",
    "    for query in drop_tables_queries:\n",
    "        cur.execute(query)\n",
    "        conn.commit()\"\"\""
   ]
  },
  {
   "cell_type": "code",
   "execution_count": 25,
   "metadata": {},
   "outputs": [],
   "source": [
    "\"\"\"def create_tables(cur, conn):\n",
    "    for query in create_tables_queries:\n",
    "        cur.execute(query)\n",
    "        conn.commit()\"\"\""
   ]
  },
  {
   "cell_type": "code",
   "execution_count": 41,
   "metadata": {},
   "outputs": [],
   "source": [
    "def read_csv(arquivo):\n",
    "\n",
    "    with open(arquivo, 'r') as arquivo_csv:\n",
    "        # Lendo todas as linhas do arquivo\n",
    "        linhas = arquivo_csv.readlines()\n",
    "\n",
    "    # Criando um dicionário vazio para armazenar os dados\n",
    "    lista = []\n",
    "\n",
    "    # Obtendo os cabeçalhos (a primeira linha do arquivo)\n",
    "    cabecalhos = linhas[0].strip().split(',')\n",
    "\n",
    "    # Iterando sobre as linhas do arquivo, excluindo o cabeçalho\n",
    "    for linha in linhas[1:]:\n",
    "        # Dividindo a linha em campos usando a vírgula como separador\n",
    "        campos = linha.strip().split(',')\n",
    "        \n",
    "        # Criando um dicionário para armazenar os valores desta linha\n",
    "        valores = {}\n",
    "        for i, cabecalho in enumerate(cabecalhos):\n",
    "            \n",
    "            valores[cabecalho] = campos[i] if campos[i] else None\n",
    "                \n",
    "        # Adicionando ao dicionário principal\n",
    "        lista.append(valores)\n",
    "\n",
    "    # Exibindo o dicionário resultante\n",
    "    return lista"
   ]
  },
  {
   "cell_type": "code",
   "execution_count": 42,
   "metadata": {},
   "outputs": [],
   "source": [
    "moviesdb = read_csv(\"movies.csv\")\n",
    "genome_scoresdb = read_csv(\"genome-scores.csv\")\n",
    "linksdb = read_csv(\"links.csv\")"
   ]
  },
  {
   "cell_type": "code",
   "execution_count": 57,
   "metadata": {},
   "outputs": [],
   "source": [
    "conn.close()"
   ]
  },
  {
   "cell_type": "code",
   "execution_count": 58,
   "metadata": {},
   "outputs": [],
   "source": [
    "cur, conn = create_database()"
   ]
  },
  {
   "cell_type": "code",
   "execution_count": 59,
   "metadata": {},
   "outputs": [],
   "source": [
    "movies_table_create = (\"\"\"CREATE TABLE IF NOT EXISTS movies(\n",
    "movieId INT PRIMARY KEY,\n",
    "title VARCHAR,\n",
    "genres VARCHAR\n",
    ")\"\"\")\n",
    "cur.execute(movies_table_create)\n",
    "conn.commit()\n",
    "\n",
    "genome_scores_table_create = (\"\"\"CREATE TABLE IF NOT EXISTS genome_scores(\n",
    "movieId INT,\n",
    "tagId INT,\n",
    "relavance NUMERIC\n",
    ")\"\"\")\n",
    "cur.execute(genome_scores_table_create)\n",
    "conn.commit()\n",
    "\n",
    "links_table_create = (\"\"\"CREATE TABLE IF NOT EXISTS links(\n",
    "movieId INT,\n",
    "imdbId INT NULL,\n",
    "tmdbId INT NULL\n",
    ")\"\"\")\n",
    "cur.execute(links_table_create)\n",
    "conn.commit()"
   ]
  },
  {
   "cell_type": "code",
   "execution_count": 60,
   "metadata": {},
   "outputs": [],
   "source": [
    "movies_table_insert = (\"\"\"INSERT INTO movies(\n",
    "movieId,\n",
    "title,\n",
    "genres)\n",
    "VALUES (%s, %s, %s)\n",
    "\"\"\")\n",
    "\n",
    "genome_scores_table_insert = (\"\"\"INSERT INTO genome_scores(\n",
    "movieId,\n",
    "tagId,\n",
    "relavance)\n",
    "VALUES (%s, %s, %s)\n",
    "\"\"\")\n",
    "\n",
    "links_table_insert = (\"\"\"INSERT INTO links(\n",
    "movieId,\n",
    "imdbId,\n",
    "tmdbId)\n",
    "VALUES (%s, %s, %s)\n",
    "\"\"\")"
   ]
  },
  {
   "cell_type": "code",
   "execution_count": 49,
   "metadata": {},
   "outputs": [],
   "source": [
    "for item in moviesdb:\n",
    "    cur.execute(movies_table_insert, list(item.values()))"
   ]
  },
  {
   "cell_type": "code",
   "execution_count": 48,
   "metadata": {},
   "outputs": [],
   "source": [
    "for item in linksdb:\n",
    "    cur.execute(links_table_insert, list(item.values()))"
   ]
  },
  {
   "cell_type": "code",
   "execution_count": 68,
   "metadata": {},
   "outputs": [],
   "source": [
    "#Esse arquivo tem 15.5 milhões de linhas, vou deixar do mesmo tamanho dos outroas\n",
    "valores_lista = []\n",
    "for item in genome_scoresdb[:60000]:\n",
    "    valores_lista.append(tuple(item.values()))"
   ]
  },
  {
   "cell_type": "code",
   "execution_count": 69,
   "metadata": {},
   "outputs": [],
   "source": [
    "cur.executemany(genome_scores_table_insert, valores_lista)"
   ]
  },
  {
   "cell_type": "code",
   "execution_count": null,
   "metadata": {},
   "outputs": [],
   "source": []
  }
 ],
 "metadata": {
  "kernelspec": {
   "display_name": "Python 3",
   "language": "python",
   "name": "python3"
  },
  "language_info": {
   "codemirror_mode": {
    "name": "ipython",
    "version": 3
   },
   "file_extension": ".py",
   "mimetype": "text/x-python",
   "name": "python",
   "nbconvert_exporter": "python",
   "pygments_lexer": "ipython3",
   "version": "3.11.9"
  }
 },
 "nbformat": 4,
 "nbformat_minor": 2
}
